{
 "cells": [
  {
   "cell_type": "code",
   "execution_count": 14,
   "metadata": {},
   "outputs": [],
   "source": [
    "from eulers_method import *\n",
    "import matplotlib.pyplot as plt\n",
    "import numpy as np"
   ]
  },
  {
   "cell_type": "markdown",
   "metadata": {},
   "source": [
    "# Euler Solution Example\n",
    "\n",
    "Consider the problem of the cooling of an object, Newtons rule of cooling tells us that an object starting at the temperature $T_0$ such that $T(0) = T_0$. \n",
    "\n",
    "$$\\frac{dT}{dt} = \\alpha (T-T_s)$$\n",
    "\n",
    "Where $T_s$ is the temperature of the objects surroundings, T(t) is the temperature of that object at time t and $\\alpha <0$ is a constant of proportionality, since the rate of cooling is proportional to the difference of the object temperature and the surrounding temperature.\n",
    "\n",
    "We next integrate both sides w.r.t time.\n",
    "\n",
    "$$\n",
    "\\begin{align*}\n",
    "\\int^{t}_{0}\\frac{1}{\\alpha (T-T_s)} \\frac{dT}{dt} dt =\\int^{t}_{0}dt \\\\\n",
    "\\int^{t}_{0}\\frac{1}{(T-T_s)} dT = \\alpha t \\\\\n",
    "\\ln{|T-T_s|-\\ln{|T_0-T_s|}} = \\alpha t \\\\\n",
    "\\ln{\\frac{|T-T_s|}{|T_0-T_s|}} = \\alpha t \\\\\n",
    "\\frac{|T-T_s|}{|T_0-T_s|} = e^{\\alpha t} \\\\\n",
    "|T-T_s| = |T_0-T_s|e^{\\alpha t}\n",
    "\\end{align*}\n",
    "$$\n",
    "\n",
    "`Case 1`: if we assume that $T_0 > T_s$ and that $T(t) \\geq T_s$ then $T = T_s + (T_0 - T_s) e^{\\alpha t}$\n",
    "\n",
    "`Case 2`: if we assume that $T_0 < T_s$ and that $T(t) \\leq T_s$ then $T = T_s - (T_s - T_0) e^{\\alpha t} $\n",
    "\n",
    "`Case 3`: In this case we have that $T_0 = T_s$ then the object is at room temperature thus $T = T_s$ is constant"
   ]
  },
  {
   "cell_type": "code",
   "execution_count": 15,
   "metadata": {},
   "outputs": [],
   "source": [
    "alpha = -1 "
   ]
  },
  {
   "cell_type": "code",
   "execution_count": 16,
   "metadata": {},
   "outputs": [],
   "source": [
    "initial_temperature_1 = 28\n",
    "surrounding_temperature_1 = 20"
   ]
  },
  {
   "cell_type": "code",
   "execution_count": 17,
   "metadata": {},
   "outputs": [],
   "source": [
    "initial_temperature_2 = 12\n",
    "surrounding_temperature_2 = 20"
   ]
  },
  {
   "cell_type": "code",
   "execution_count": 18,
   "metadata": {},
   "outputs": [],
   "source": [
    "endpoint = 10\n",
    "steps = 1000"
   ]
  },
  {
   "cell_type": "markdown",
   "metadata": {},
   "source": [
    "# Analytical Solution\n",
    "\n"
   ]
  },
  {
   "cell_type": "code",
   "execution_count": 19,
   "metadata": {},
   "outputs": [],
   "source": [
    "def case1(time,surrounding_temperature = surrounding_temperature_1,alpha = alpha ,T_0 = initial_temperature_1):\n",
    "    return surrounding_temperature + (T_0 - surrounding_temperature) * np.exp(alpha * time)"
   ]
  },
  {
   "cell_type": "code",
   "execution_count": 20,
   "metadata": {},
   "outputs": [],
   "source": [
    "def case2(time,surrounding_temperature = surrounding_temperature_2,alpha = alpha,T_0 = initial_temperature_2):\n",
    "    return  - (surrounding_temperature - T_0) * np.exp(alpha * time) + surrounding_temperature"
   ]
  },
  {
   "cell_type": "code",
   "execution_count": 21,
   "metadata": {},
   "outputs": [],
   "source": [
    "space = np.arange(0,endpoint,endpoint/steps)"
   ]
  },
  {
   "cell_type": "code",
   "execution_count": 22,
   "metadata": {},
   "outputs": [
    {
     "data": {
      "text/plain": [
       "<matplotlib.collections.LineCollection at 0x117d3b0a0>"
      ]
     },
     "execution_count": 22,
     "metadata": {},
     "output_type": "execute_result"
    },
    {
     "data": {
      "image/png": "[encoded data removed]",
      "text/plain": [
       "<Figure size 432x288 with 1 Axes>"
      ]
     },
     "metadata": {
      "needs_background": "light"
     },
     "output_type": "display_data"
    }
   ],
   "source": [
    "plt.plot(space,case1(space),color = 'red')\n",
    "plt.plot(space,case2(space),color = 'green')\n",
    "plt.hlines(y = surrounding_temperature_1,xmin = 0,xmax = endpoint, color = 'blue')"
   ]
  },
  {
   "cell_type": "markdown",
   "metadata": {},
   "source": [
    "# Numerical Solution"
   ]
  },
  {
   "cell_type": "code",
   "execution_count": 23,
   "metadata": {},
   "outputs": [],
   "source": [
    "def law_of_cooling(T:float,y:float,surrounding_temperature:float,alpha:float) -> float:\n",
    "    if alpha > 0:\n",
    "        raise TypeError(\"Alpha must be negative.\")\n",
    "    return alpha * (T - surrounding_temperature)"
   ]
  },
  {
   "cell_type": "code",
   "execution_count": 24,
   "metadata": {},
   "outputs": [],
   "source": [
    "x_1,y_1 = euler_method(\n",
    "    lambda x,y: law_of_cooling(y,x,surrounding_temperature_1,alpha=alpha),\n",
    "    [0,initial_temperature_1],\n",
    "    endpoint,\n",
    "    steps\n",
    ")"
   ]
  },
  {
   "cell_type": "code",
   "execution_count": 25,
   "metadata": {},
   "outputs": [],
   "source": [
    "x_2,y_2 = euler_method(\n",
    "    lambda x,y: law_of_cooling(y,x,surrounding_temperature_2,alpha=alpha),\n",
    "    [0,initial_temperature_2],\n",
    "    endpoint,\n",
    "    steps\n",
    ")"
   ]
  },
  {
   "cell_type": "code",
   "execution_count": 26,
   "metadata": {},
   "outputs": [
    {
     "data": {
      "text/plain": [
       "<matplotlib.collections.LineCollection at 0x1140a1280>"
      ]
     },
     "execution_count": 26,
     "metadata": {},
     "output_type": "execute_result"
    },
    {
     "data": {
      "image/png": "[encoded data removed]",
      "text/plain": [
       "<Figure size 432x288 with 1 Axes>"
      ]
     },
     "metadata": {
      "needs_background": "light"
     },
     "output_type": "display_data"
    }
   ],
   "source": [
    "plt.plot(x_1,y_1,color = 'red',label = \"\")\n",
    "plt.plot(x_2,y_2,color = 'green',label = \"\")\n",
    "plt.hlines(y = surrounding_temperature_1,xmin = 0,xmax = endpoint, color = 'blue')"
   ]
  },
  {
   "cell_type": "markdown",
   "metadata": {},
   "source": [
    "# Second Order Example\n",
    "\n",
    "Consider the physical system of a mass on a string on a smooth surface. It is logical to think that as the mass is pulled further from the strings natural length it feels a stronger force pulling it back, in other words $F \\propto - x$ as the force will always act in the opposite direction to the pulling.\n",
    "\n",
    "Newtons second law tells us that $F = ma$ but accelaration is nothing but the second time derivative of position, hence $a = \\frac{d^2x}{dt^2}$ thus we have:\n",
    "\n",
    "$$\n",
    "\\begin{align*}\n",
    "\\frac{d^2x}{dt^2} \\propto -x\n",
    "\\end{align*}\n",
    "$$\n",
    "\n",
    "We know this `coefficient of proportionality` to be $\\frac{k}{m}$ where $k$ is the `spring constant` (determines how 'springy' the spring is) and $m$ is the mass of the block.\n",
    "\n",
    "$$\n",
    "\\begin{align*}\n",
    "\\frac{d^2x}{dt^2} = - \\frac{k}{m} x\n",
    "\\end{align*}\n",
    "$$\n",
    "\n",
    "Analytically we can solve this equation pretty easily, by substituting $x = e^{\\lambda t}$ and solving for $\\lambda$.\n",
    "\n",
    "$$\n",
    "\\begin{align*}\n",
    "\\lambda^2 e^{\\lambda t}= - \\frac{k}{m} e^{\\lambda t} \\\\\n",
    "\\lambda ^2 = -\\frac{k}{m} \\\\\n",
    "\\lambda = \\pm i \\sqrt{\\frac{k}{m}}  \n",
    "\\end{align*}\n",
    "$$\n",
    "So we can now get our general solution for arbritrary constants $A,B$ that will be determined via `auxilary equations`:\n",
    "$$\n",
    "\\begin{align*}\n",
    "x(t) = Ae^{i \\sqrt{\\frac{k}{m}}t} + Be^{-i \\sqrt{\\frac{k}{m}}t}\n",
    "\\end{align*}\n",
    "$$\n",
    "\n",
    "We only care about $\\Re(x(t))$, hence our general solution with some more arbitrary constants is:\n",
    "$$\n",
    "\\begin{align*}\n",
    "x(t) = \\tilde{A} \\cos{(\\sqrt{\\frac{k}{m}}t}) + \\tilde{B} \\sin({-\\sqrt{\\frac{k}{m}}t})\n",
    "\\end{align*}\n",
    "$$\n",
    "Now our `auxillary equations` shall be $\\left . \\frac{d^2x}{dt^2} \\right|_{t=0}= -x_0$ and $\\frac{dx}{dt} = 0$"
   ]
  },
  {
   "cell_type": "code",
   "execution_count": null,
   "metadata": {},
   "outputs": [],
   "source": [
    "def spring_system(x,k,m):\n",
    "    return - k*x/m"
   ]
  }
 ],
 "metadata": {
  "kernelspec": {
   "display_name": "Python 3.9.15 64-bit",
   "language": "python",
   "name": "python3"
  },
  "language_info": {
   "codemirror_mode": {
    "name": "ipython",
    "version": 3
   },
   "file_extension": ".py",
   "mimetype": "text/x-python",
   "name": "python",
   "nbconvert_exporter": "python",
   "pygments_lexer": "ipython3",
   "version": "3.9.15"
  },
  "orig_nbformat": 4,
  "vscode": {
   "interpreter": {
    "hash": "a665b5d41d17b532ea9890333293a1b812fa0b73c9c25c950b3cedf1bebd0438"
   }
  }
 },
 "nbformat": 4,
 "nbformat_minor": 2
}
