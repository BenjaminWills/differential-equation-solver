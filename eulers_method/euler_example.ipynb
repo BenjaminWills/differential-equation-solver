{
 "cells": [
  {
   "cell_type": "code",
   "execution_count": 60,
   "metadata": {},
   "outputs": [],
   "source": [
    "from eulers_method import *\n",
    "import matplotlib.pyplot as plt"
   ]
  },
  {
   "cell_type": "markdown",
   "metadata": {},
   "source": [
    "#Euler Solution Example\n",
    "\n",
    "Consider the problem of the cooling of an object, Newtons rule of cooling tells us that an object starting at the temperature $T_0$ such that $T(0) = T_0$. \n",
    "\n",
    "$$\\frac{dT}{dt} = \\alpha (T-T_s)$$\n",
    "\n",
    "Where $T_s$ is the temperature of the objects surroundings, T(t) is the temperature of that object at time t and $\\alpha <0$ is a constant of proportionality, since the rate of cooling is proportionate to the difference of the object temperature and the surrounding temperature.\n",
    "\n",
    "We next integrate both sides w.r.t time.\n",
    "\n",
    "$$\n",
    "\\begin{align*}\n",
    "\\int^{t}_{0}\\frac{1}{\\alpha (T-T_s)} \\frac{dT}{dt} dt =\\int^{t}_{0}dt \\\\\n",
    "\\int^{t}_{0}\\frac{1}{(T-T_s)} dT = \\alpha t \\\\\n",
    "\\ln{|T-T_s|-\\ln{|T_0-T_s|}} = \\alpha t \\\\\n",
    "\\ln{\\frac{|T-T_s|}{|T_0-T_s|}} = \\alpha t \\\\\n",
    "\\frac{|T-T_s|}{|T_0-T_s|} = e^{\\alpha t} \\\\\n",
    "|T-T_s| = |T_0-T_s|e^{\\alpha t}\n",
    "\\end{align*}\n",
    "$$\n",
    "\n",
    "Case 1: if we assume that $T_0 > T_s$ and that $T(t) \\geq T_s$ then $T = T_s + (T_s - T_s) e^{\\alpha t}$\n",
    "\n",
    "Case 2: if we assume that $T_0 < T_s$ and that $T(t) \\leq T_s$ then $T = (T_s - T_0) e^{\\alpha t} - T_s$"
   ]
  },
  {
   "cell_type": "code",
   "execution_count": 61,
   "metadata": {},
   "outputs": [],
   "source": [
    "def law_of_cooling(T:float,alpha:float,surrounding_temperature:float) -> float:\n",
    "    if alpha > 0:\n",
    "        raise TypeError(\"Alpha must be negative.\")\n",
    "    return alpha * (T - surrounding_temperature)"
   ]
  },
  {
   "cell_type": "code",
   "execution_count": 62,
   "metadata": {},
   "outputs": [],
   "source": [
    "initial_temperature = 30"
   ]
  },
  {
   "cell_type": "code",
   "execution_count": 63,
   "metadata": {},
   "outputs": [],
   "source": [
    "x,y = euler_method(\n",
    "    lambda x,y: law_of_cooling(x,-1,35),\n",
    "    [0,initial_temperature],\n",
    "    1,\n",
    "    1000\n",
    ")"
   ]
  },
  {
   "cell_type": "code",
   "execution_count": 64,
   "metadata": {},
   "outputs": [
    {
     "data": {
      "text/plain": [
       "[<matplotlib.lines.Line2D at 0x11d19e400>]"
      ]
     },
     "execution_count": 64,
     "metadata": {},
     "output_type": "execute_result"
    },
    {
     "data": {
      "image/png": "[encoded data removed]",
      "text/plain": [
       "<Figure size 432x288 with 1 Axes>"
      ]
     },
     "metadata": {
      "needs_background": "light"
     },
     "output_type": "display_data"
    }
   ],
   "source": [
    "plt.plot(x,y)"
   ]
  },
  {
   "cell_type": "code",
   "execution_count": null,
   "metadata": {},
   "outputs": [],
   "source": []
  }
 ],
 "metadata": {
  "kernelspec": {
   "display_name": "Python 3.9.15 64-bit",
   "language": "python",
   "name": "python3"
  },
  "language_info": {
   "codemirror_mode": {
    "name": "ipython",
    "version": 3
   },
   "file_extension": ".py",
   "mimetype": "text/x-python",
   "name": "python",
   "nbconvert_exporter": "python",
   "pygments_lexer": "ipython3",
   "version": "3.9.15"
  },
  "orig_nbformat": 4,
  "vscode": {
   "interpreter": {
    "hash": "a665b5d41d17b532ea9890333293a1b812fa0b73c9c25c950b3cedf1bebd0438"
   }
  }
 },
 "nbformat": 4,
 "nbformat_minor": 2
}
