{
 "cells": [
  {
   "cell_type": "code",
   "execution_count": 49,
   "metadata": {},
   "outputs": [],
   "source": [
    "from eulers_method import *\n",
    "import matplotlib.pyplot as plt\n",
    "import numpy as np"
   ]
  },
  {
   "cell_type": "markdown",
   "metadata": {},
   "source": [
    "# Euler Solution Example\n",
    "\n",
    "Consider the problem of the cooling of an object, Newtons rule of cooling tells us that an object starting at the temperature $T_0$ such that $T(0) = T_0$. \n",
    "\n",
    "$$\\frac{dT}{dt} = \\alpha (T-T_s)$$\n",
    "\n",
    "Where $T_s$ is the temperature of the objects surroundings, T(t) is the temperature of that object at time t and $\\alpha <0$ is a constant of proportionality, since the rate of cooling is proportional to the difference of the object temperature and the surrounding temperature.\n",
    "\n",
    "We next integrate both sides w.r.t time.\n",
    "\n",
    "$$\n",
    "\\begin{align*}\n",
    "\\int^{t}_{0}\\frac{1}{\\alpha (T-T_s)} \\frac{dT}{dt} dt =\\int^{t}_{0}dt \\\\\n",
    "\\int^{t}_{0}\\frac{1}{(T-T_s)} dT = \\alpha t \\\\\n",
    "\\ln{|T-T_s|-\\ln{|T_0-T_s|}} = \\alpha t \\\\\n",
    "\\ln{\\frac{|T-T_s|}{|T_0-T_s|}} = \\alpha t \\\\\n",
    "\\frac{|T-T_s|}{|T_0-T_s|} = e^{\\alpha t} \\\\\n",
    "|T-T_s| = |T_0-T_s|e^{\\alpha t}\n",
    "\\end{align*}\n",
    "$$\n",
    "\n",
    "Case 1: if we assume that $T_0 > T_s$ and that $T(t) \\geq T_s$ then $T = T_s + (T_0 - T_s) e^{\\alpha t}$\n",
    "\n",
    "Case 2: if we assume that $T_0 < T_s$ and that $T(t) \\leq T_s$ then $T = (T_s - T_0) e^{\\alpha t} + T_s$\n",
    "\n",
    "Case 3: In this case we have that $T_0 = T_s$ then the object is at room temperature thus $T = T_s$ is constant"
   ]
  },
  {
   "cell_type": "code",
   "execution_count": 50,
   "metadata": {},
   "outputs": [],
   "source": [
    "initial_temperature = 12\n",
    "alpha = -1 \n",
    "surrounding_temperature = 5\n",
    "endpoint = 10\n",
    "steps = 1000"
   ]
  },
  {
   "cell_type": "markdown",
   "metadata": {},
   "source": [
    "# Analytical Solution\n",
    "\n"
   ]
  },
  {
   "cell_type": "code",
   "execution_count": 51,
   "metadata": {},
   "outputs": [],
   "source": [
    "def case1(time,surrounding_temperature = surrounding_temperature,alpha = alpha ,T_0 = initial_temperature):\n",
    "    return surrounding_temperature + (T_0 - surrounding_temperature) * np.exp(alpha * time)"
   ]
  },
  {
   "cell_type": "code",
   "execution_count": 52,
   "metadata": {},
   "outputs": [],
   "source": [
    "def case2(time,surrounding_temperature = surrounding_temperature,alpha = alpha,T_0 = initial_temperature):\n",
    "    return (surrounding_temperature - T_0) * np.exp(alpha * time) + surrounding_temperature"
   ]
  },
  {
   "cell_type": "code",
   "execution_count": 53,
   "metadata": {},
   "outputs": [],
   "source": [
    "def case3(x,surrounding_temperature = surrounding_temperature):\n",
    "    return surrounding_temperature"
   ]
  },
  {
   "cell_type": "code",
   "execution_count": 54,
   "metadata": {},
   "outputs": [],
   "source": [
    "space = np.arange(0,endpoint,endpoint/steps)"
   ]
  },
  {
   "cell_type": "code",
   "execution_count": 55,
   "metadata": {},
   "outputs": [
    {
     "data": {
      "text/plain": [
       "<matplotlib.collections.LineCollection at 0x10ee61850>"
      ]
     },
     "execution_count": 55,
     "metadata": {},
     "output_type": "execute_result"
    },
    {
     "data": {
      "image/png": "[encoded data removed]",
      "text/plain": [
       "<Figure size 432x288 with 1 Axes>"
      ]
     },
     "metadata": {
      "needs_background": "light"
     },
     "output_type": "display_data"
    }
   ],
   "source": [
    "plt.plot(space,case1(space),color = 'red')\n",
    "plt.plot(space,case2(space),color = 'green')\n",
    "plt.hlines(y = surrounding_temperature,xmin = 0,xmax = endpoint, color = 'blue')"
   ]
  },
  {
   "cell_type": "markdown",
   "metadata": {},
   "source": [
    "# Numerical Solution"
   ]
  },
  {
   "cell_type": "code",
   "execution_count": 56,
   "metadata": {},
   "outputs": [],
   "source": [
    "def law_of_cooling(T:float,y:float) -> float:\n",
    "    if alpha > 0:\n",
    "        raise TypeError(\"Alpha must be negative.\")\n",
    "    return alpha * (T - surrounding_temperature)"
   ]
  },
  {
   "cell_type": "code",
   "execution_count": 57,
   "metadata": {},
   "outputs": [],
   "source": [
    "x,y = euler_method(\n",
    "    lambda x,y: law_of_cooling(y,x),\n",
    "    [0,initial_temperature],\n",
    "    endpoint,\n",
    "    steps\n",
    ")"
   ]
  },
  {
   "cell_type": "code",
   "execution_count": 58,
   "metadata": {},
   "outputs": [
    {
     "data": {
      "text/plain": [
       "<matplotlib.collections.LineCollection at 0x10ef15730>"
      ]
     },
     "execution_count": 58,
     "metadata": {},
     "output_type": "execute_result"
    },
    {
     "data": {
      "image/png": "[encoded data removed]",
      "text/plain": [
       "<Figure size 432x288 with 1 Axes>"
      ]
     },
     "metadata": {
      "needs_background": "light"
     },
     "output_type": "display_data"
    }
   ],
   "source": [
    "plt.plot(x,y,color = 'red',label = \"\")\n",
    "plt.hlines(y = surrounding_temperature,xmin = 0,xmax = endpoint, color = 'blue')"
   ]
  }
 ],
 "metadata": {
  "kernelspec": {
   "display_name": "Python 3.9.15 64-bit",
   "language": "python",
   "name": "python3"
  },
  "language_info": {
   "codemirror_mode": {
    "name": "ipython",
    "version": 3
   },
   "file_extension": ".py",
   "mimetype": "text/x-python",
   "name": "python",
   "nbconvert_exporter": "python",
   "pygments_lexer": "ipython3",
   "version": "3.9.15"
  },
  "orig_nbformat": 4,
  "vscode": {
   "interpreter": {
    "hash": "a665b5d41d17b532ea9890333293a1b812fa0b73c9c25c950b3cedf1bebd0438"
   }
  }
 },
 "nbformat": 4,
 "nbformat_minor": 2
}
