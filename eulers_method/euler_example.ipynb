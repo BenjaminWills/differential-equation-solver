{
 "cells": [
  {
   "cell_type": "code",
   "execution_count": 56,
   "metadata": {},
   "outputs": [],
   "source": [
    "from eulers_method import *\n",
    "import matplotlib.pyplot as plt\n",
    "import numpy as np"
   ]
  },
  {
   "cell_type": "markdown",
   "metadata": {},
   "source": [
    "# Euler Solution Example\n",
    "\n",
    "Consider the problem of the cooling of an object, Newtons rule of cooling tells us that an object starting at the temperature $T_0$ such that $T(0) = T_0$. \n",
    "\n",
    "$$\\frac{dT}{dt} = \\alpha (T-T_s)$$\n",
    "\n",
    "Where $T_s$ is the temperature of the objects surroundings, T(t) is the temperature of that object at time t and $\\alpha <0$ is a constant of proportionality, since the rate of cooling is proportional to the difference of the object temperature and the surrounding temperature.\n",
    "\n",
    "We next integrate both sides w.r.t time.\n",
    "\n",
    "$$\n",
    "\\begin{align*}\n",
    "\\int^{t}_{0}\\frac{1}{\\alpha (T-T_s)} \\frac{dT}{dt} dt =\\int^{t}_{0}dt \\\\\n",
    "\\int^{t}_{0}\\frac{1}{(T-T_s)} dT = \\alpha t \\\\\n",
    "\\ln{|T-T_s|-\\ln{|T_0-T_s|}} = \\alpha t \\\\\n",
    "\\ln{\\frac{|T-T_s|}{|T_0-T_s|}} = \\alpha t \\\\\n",
    "\\frac{|T-T_s|}{|T_0-T_s|} = e^{\\alpha t} \\\\\n",
    "|T-T_s| = |T_0-T_s|e^{\\alpha t}\n",
    "\\end{align*}\n",
    "$$\n",
    "\n",
    "`Case 1`: if we assume that $T_0 > T_s$ and that $T(t) \\geq T_s$ then $T = T_s + (T_0 - T_s) e^{\\alpha t}$\n",
    "\n",
    "`Case 2`: if we assume that $T_0 < T_s$ and that $T(t) \\leq T_s$ then $T = T_s - (T_s - T_0) e^{\\alpha t} $\n",
    "\n",
    "`Case 3`: In this case we have that $T_0 = T_s$ then the object is at room temperature thus $T = T_s$ is constant"
   ]
  },
  {
   "cell_type": "code",
   "execution_count": 57,
   "metadata": {},
   "outputs": [],
   "source": [
    "alpha = -1 "
   ]
  },
  {
   "cell_type": "code",
   "execution_count": 58,
   "metadata": {},
   "outputs": [],
   "source": [
    "initial_temperature_1 = 28\n",
    "surrounding_temperature_1 = 20"
   ]
  },
  {
   "cell_type": "code",
   "execution_count": 59,
   "metadata": {},
   "outputs": [],
   "source": [
    "initial_temperature_2 = 12\n",
    "surrounding_temperature_2 = 20"
   ]
  },
  {
   "cell_type": "code",
   "execution_count": 60,
   "metadata": {},
   "outputs": [],
   "source": [
    "endpoint = 10\n",
    "steps = 1000"
   ]
  },
  {
   "cell_type": "markdown",
   "metadata": {},
   "source": [
    "# Analytical Solution\n",
    "\n"
   ]
  },
  {
   "cell_type": "code",
   "execution_count": 61,
   "metadata": {},
   "outputs": [],
   "source": [
    "def case1(time,surrounding_temperature = surrounding_temperature_1,alpha = alpha ,T_0 = initial_temperature_1):\n",
    "    return surrounding_temperature + (T_0 - surrounding_temperature) * np.exp(alpha * time)"
   ]
  },
  {
   "cell_type": "code",
   "execution_count": 62,
   "metadata": {},
   "outputs": [],
   "source": [
    "def case2(time,surrounding_temperature = surrounding_temperature_2,alpha = alpha,T_0 = initial_temperature_2):\n",
    "    return  - (surrounding_temperature - T_0) * np.exp(alpha * time) + surrounding_temperature"
   ]
  },
  {
   "cell_type": "code",
   "execution_count": 63,
   "metadata": {},
   "outputs": [],
   "source": [
    "space = np.arange(0,endpoint,endpoint/steps)"
   ]
  },
  {
   "cell_type": "code",
   "execution_count": 64,
   "metadata": {},
   "outputs": [
    {
     "data": {
      "text/plain": [
       "<matplotlib.collections.LineCollection at 0x145b27160>"
      ]
     },
     "execution_count": 64,
     "metadata": {},
     "output_type": "execute_result"
    },
    {
     "data": {
      "image/png": "[encoded data removed]",
      "text/plain": [
       "<Figure size 432x288 with 1 Axes>"
      ]
     },
     "metadata": {
      "needs_background": "light"
     },
     "output_type": "display_data"
    }
   ],
   "source": [
    "plt.plot(space,case1(space),color = 'red')\n",
    "plt.plot(space,case2(space),color = 'green')\n",
    "plt.hlines(y = surrounding_temperature_1,xmin = 0,xmax = endpoint, color = 'blue')"
   ]
  },
  {
   "cell_type": "markdown",
   "metadata": {},
   "source": [
    "# Numerical Solution"
   ]
  },
  {
   "cell_type": "code",
   "execution_count": 65,
   "metadata": {},
   "outputs": [],
   "source": [
    "def law_of_cooling(T:float,y:float,surrounding_temperature:float,alpha:float) -> float:\n",
    "    if alpha > 0:\n",
    "        raise TypeError(\"Alpha must be negative.\")\n",
    "    return alpha * (T - surrounding_temperature)"
   ]
  },
  {
   "cell_type": "code",
   "execution_count": 66,
   "metadata": {},
   "outputs": [],
   "source": [
    "x_1,y_1 = euler_method(\n",
    "    lambda x,y: law_of_cooling(y,x,surrounding_temperature_1,alpha=alpha),\n",
    "    [0,initial_temperature_1],\n",
    "    endpoint,\n",
    "    steps\n",
    ")"
   ]
  },
  {
   "cell_type": "code",
   "execution_count": 67,
   "metadata": {},
   "outputs": [],
   "source": [
    "x_2,y_2 = euler_method(\n",
    "    lambda x,y: law_of_cooling(y,x,surrounding_temperature_2,alpha=alpha),\n",
    "    [0,initial_temperature_2],\n",
    "    endpoint,\n",
    "    steps\n",
    ")"
   ]
  },
  {
   "cell_type": "code",
   "execution_count": 68,
   "metadata": {},
   "outputs": [
    {
     "data": {
      "text/plain": [
       "<matplotlib.collections.LineCollection at 0x145c62130>"
      ]
     },
     "execution_count": 68,
     "metadata": {},
     "output_type": "execute_result"
    },
    {
     "data": {
      "image/png": "[encoded data removed]",
      "text/plain": [
       "<Figure size 432x288 with 1 Axes>"
      ]
     },
     "metadata": {
      "needs_background": "light"
     },
     "output_type": "display_data"
    }
   ],
   "source": [
    "plt.plot(x_1,y_1,color = 'red',label = \"\")\n",
    "plt.plot(x_2,y_2,color = 'green',label = \"\")\n",
    "plt.hlines(y = surrounding_temperature_1,xmin = 0,xmax = endpoint, color = 'blue')"
   ]
  },
  {
   "cell_type": "markdown",
   "metadata": {},
   "source": [
    "# Second Order Example\n",
    "\n",
    "Consider the physical system of a mass on a string on a smooth surface (simple harmonic motion). It is logical to think that as the mass is pulled further from the strings natural length it feels a stronger force pulling it back, in other words $F \\propto - x$ as the force will always act in the opposite direction to the pulling.\n",
    "\n",
    "Newtons second law tells us that $F = ma$ but accelaration is nothing but the second time derivative of position, hence $a = \\frac{d^2x}{dt^2}$ thus we have:\n",
    "\n",
    "$$\n",
    "\\begin{align*}\n",
    "\\frac{d^2x}{dt^2} \\propto -x\n",
    "\\end{align*}\n",
    "$$\n",
    "\n",
    "We know this `coefficient of proportionality` to be $\\frac{k}{m}$ where $k$ is the `spring constant` (determines how 'springy' the spring is) and $m$ is the mass of the block.\n",
    "\n",
    "$$\n",
    "\\begin{align*}\n",
    "\\frac{d^2x}{dt^2} = - \\frac{k}{m} x\n",
    "\\end{align*}\n",
    "$$\n",
    "\n",
    "Analytically we can solve this equation pretty easily, by substituting $x = e^{\\lambda t}$ and solving for $\\lambda$.\n",
    "\n",
    "$$\n",
    "\\begin{align*}\n",
    "\\lambda^2 e^{\\lambda t}= - \\frac{k}{m} e^{\\lambda t} \\\\\n",
    "\\lambda ^2 = -\\frac{k}{m} \\\\\n",
    "\\lambda = \\pm i \\sqrt{\\frac{k}{m}}  \n",
    "\\end{align*}\n",
    "$$\n",
    "So we can now get our general solution for arbritrary constants $A,B$ that will be determined via `auxilary equations`:\n",
    "$$\n",
    "\\begin{align*}\n",
    "x(t) = Ae^{i \\sqrt{\\frac{k}{m}}t} + Be^{-i \\sqrt{\\frac{k}{m}}t}\n",
    "\\end{align*}\n",
    "$$\n",
    "\n",
    "We only care about $\\Re(x(t))$, hence our general solution with some more arbitrary constants is:\n",
    "$$\n",
    "\\begin{align*}\n",
    "x(t) = \\tilde{A} \\cos{(\\sqrt{\\frac{k}{m}}t}) + \\tilde{B} \\sin({\\sqrt{\\frac{k}{m}}t})\n",
    "\\end{align*}\n",
    "$$\n",
    "Now our `auxillary equations` shall be $\\left . \\frac{dx}{dt} \\right|_{t=0}=  v_0$ and $x(0) = x_0$, in this case we have that \n",
    "\n",
    "$$\n",
    "\\begin{align*}\n",
    "\\frac{dx}{dt} = \\sqrt{\\frac{k}{m}} (\\tilde{B} \\cos{(\\sqrt{\\frac{k}{m}}t)} - \\tilde{A} \\sin(\\sqrt{\\frac{k}{m}}t))\n",
    "\\end{align*}\n",
    "$$ \n",
    "\n",
    "thus when $t = 0$ we have\n",
    "$$\n",
    "\\begin{align*}\n",
    "\\left . \\frac{dx}{dt} \\right|_{t=0}=\\tilde{B}\\sqrt{\\frac{k}{m}} \\\\ \n",
    "v_0 =  \\tilde{B}\\sqrt{\\frac{k}{m}} \\\\\n",
    "v_0 \\sqrt{\\frac{m}{k}} = \\tilde{B}\n",
    "\\end{align*}\n",
    "$$\n",
    "\n",
    "Then we also have that at $t=0, x = x_0$ so\n",
    "\n",
    "$$\n",
    "\\begin{align*}\n",
    "x_0 = \\tilde{A}\n",
    "\\end{align*}\n",
    "$$\n",
    "\n",
    "So finally we have \n",
    "\n",
    "$$\n",
    "\\begin{align*}\n",
    "x(t) = x_0 \\cos{(\\sqrt{\\frac{k}{m}}t})  +v_0 \\sqrt{\\frac{m}{k}} \\sin({\\sqrt{\\frac{k}{m}}t})\n",
    "\\end{align*}\n",
    "$$\n"
   ]
  },
  {
   "cell_type": "code",
   "execution_count": 69,
   "metadata": {},
   "outputs": [],
   "source": [
    "def spring_system(t:float,x:float,k:float,m:float) -> float:\n",
    "    \"\"\"Will return the accelaration of the block at time t and position x.\n",
    "\n",
    "    Parameters\n",
    "    ----------\n",
    "    t : float\n",
    "        Time\n",
    "    x : float\n",
    "        Position\n",
    "    k : float\n",
    "        Spring constant\n",
    "    m : float\n",
    "        Mass\n",
    "\n",
    "    Returns\n",
    "    -------\n",
    "    float\n",
    "        accelaration of the block at time t and position x.\n",
    "    \"\"\"\n",
    "    return - k*x/m"
   ]
  },
  {
   "cell_type": "code",
   "execution_count": 70,
   "metadata": {},
   "outputs": [],
   "source": [
    "def analyitical_SHM(t,k,m,x_0,v_0):\n",
    "    spring_mass_constant = np.sqrt(k/m)\n",
    "    return x_0 * np.cos(spring_mass_constant * t) + v_0 * (1/spring_mass_constant) * np.sin(spring_mass_constant * t)"
   ]
  },
  {
   "cell_type": "code",
   "execution_count": 71,
   "metadata": {},
   "outputs": [],
   "source": [
    "x_0 = 1\n",
    "v_0 = -x_0\n",
    "k = 1\n",
    "m = 1"
   ]
  },
  {
   "cell_type": "code",
   "execution_count": 72,
   "metadata": {},
   "outputs": [],
   "source": [
    "x,y = second_order_euler(\n",
    "    function = lambda t,x: spring_system(t,x,k,m),\n",
    "    position_initial_values=[0,x_0],\n",
    "    velocity_initial_value=v_0,\n",
    "    endpoint = 10,\n",
    "    num_steps = 5_000\n",
    ")"
   ]
  },
  {
   "cell_type": "code",
   "execution_count": 73,
   "metadata": {},
   "outputs": [
    {
     "data": {
      "text/plain": [
       "[<matplotlib.lines.Line2D at 0x145d18970>]"
      ]
     },
     "execution_count": 73,
     "metadata": {},
     "output_type": "execute_result"
    },
    {
     "data": {
      "image/png": "[encoded data removed]",
      "text/plain": [
       "<Figure size 432x288 with 1 Axes>"
      ]
     },
     "metadata": {
      "needs_background": "light"
     },
     "output_type": "display_data"
    }
   ],
   "source": [
    "plt.plot(x,y)\n",
    "plt.plot(x,analyitical_SHM(x,k,m,x_0,v_0))"
   ]
  },
  {
   "cell_type": "code",
   "execution_count": null,
   "metadata": {},
   "outputs": [],
   "source": []
  }
 ],
 "metadata": {
  "kernelspec": {
   "display_name": "Python 3.9.15 64-bit",
   "language": "python",
   "name": "python3"
  },
  "language_info": {
   "codemirror_mode": {
    "name": "ipython",
    "version": 3
   },
   "file_extension": ".py",
   "mimetype": "text/x-python",
   "name": "python",
   "nbconvert_exporter": "python",
   "pygments_lexer": "ipython3",
   "version": "3.9.15"
  },
  "orig_nbformat": 4,
  "vscode": {
   "interpreter": {
    "hash": "a665b5d41d17b532ea9890333293a1b812fa0b73c9c25c950b3cedf1bebd0438"
   }
  }
 },
 "nbformat": 4,
 "nbformat_minor": 2
}
